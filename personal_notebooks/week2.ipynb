{
 "cells": [
  {
   "cell_type": "markdown",
   "metadata": {},
   "source": [
    "# Part II : Answers to the exercies of the book"
   ]
  },
  {
   "cell_type": "markdown",
   "metadata": {},
   "source": [
    "### Problem 1: Königsberg Problem\n",
    "\n",
    "Which of the icons in Image 2.19 can be drawn without raising yourpencil from the paper, and without drawing any line more than once? Why?\n",
    "\n",
    "<img src=\"http://networksciencebook.com/images/ch-02/figure-2-19.jpg\" width=\"300\" height=\"300\" />"
   ]
  },
  {
   "cell_type": "markdown",
   "metadata": {},
   "source": [
    "a. Yes, there is two node with an odd number of edges.\n",
    "\n",
    "b. No, the four nodes have an odd number of edges.\n",
    "\n",
    "c. No, six nodes have an odd number of edges.\n",
    "\n",
    "d. Yes, only two nodes have an odd number of edges."
   ]
  },
  {
   "cell_type": "markdown",
   "metadata": {},
   "source": [
    "### Problem 2: Matrix Formalism\n",
    "\n",
    "Let A be the NxN adjacency matrix of an undirected unweighted network, without self-loops. Let 1 be a column vector of N elements, all equal to 1. In other words 1 = (1, 1, ..., 1)T , where the superscript T indicates the transpose operation. Use the matrix formalism (multiplicative constants, multiplication row by column, matrix operations like transpose and trace, etc, but avoid the sum symbol Σ) to write expressions for:"
   ]
  },
  {
   "cell_type": "markdown",
   "metadata": {},
   "source": [
    "- The vector k whose elements are the degrees ki of all nodes i = 1, 2,..., N.\n",
    "        \n",
    "        k = 1T * A"
   ]
  },
  {
   "cell_type": "markdown",
   "metadata": {},
   "source": [
    "- The total number of links, L, in the network\n",
    "\n",
    "        L = 1/2 * (1 * k)"
   ]
  },
  {
   "cell_type": "markdown",
   "metadata": {},
   "source": [
    "- The number of triangles T present in the network, where a triangle means three nodes, each connected by links to the other two (Hint: you can use the trace of a matrix)\n",
    "\n",
    "        nb. triangles = trace(A3) / 6"
   ]
  },
  {
   "cell_type": "markdown",
   "metadata": {},
   "source": [
    "### Problem 3: Graph Representation\n",
    "\n",
    "The adjacency matrix is a useful graph representation for many analytical calculations. However, when we need to store a network in a computer, we can save computer memory by offering the list of links in a Lx2 matrix, whose rows contain the starting and end point i and j of each link.\n",
    "\n",
    "Construct for the networks (a) and (b)\n",
    "\n",
    "<img src=\"http://networksciencebook.com/images/ch-02/figure-2-20.jpg\" height=\"300\" />"
   ]
  },
  {
   "cell_type": "markdown",
   "metadata": {},
   "source": [
    "- #### The corresponding adjacency matrices"
   ]
  },
  {
   "cell_type": "code",
   "execution_count": 22,
   "metadata": {},
   "outputs": [
    {
     "data": {
      "text/plain": [
       "array([[0, 1, 1, 1, 0, 1],\n",
       "       [1, 0, 1, 1, 0, 0],\n",
       "       [1, 1, 0, 0, 0, 1],\n",
       "       [1, 1, 0, 0, 0, 0],\n",
       "       [0, 0, 0, 0, 0, 0],\n",
       "       [1, 0, 1, 0, 0, 0]])"
      ]
     },
     "execution_count": 22,
     "metadata": {},
     "output_type": "execute_result"
    }
   ],
   "source": [
    "import numpy as np\n",
    "a_adcencency_list = np.array([[0, 1, 1, 1, 0, 1], [1, 0, 1, 1, 0, 0], [1, 1, 0, 0, 0, 1], [1, 1, 0, 0, 0, 0], [0, 0, 0, 0, 0, 0], [1, 0, 1, 0, 0, 0]])\n",
    "a_adcencency_list"
   ]
  },
  {
   "cell_type": "code",
   "execution_count": 23,
   "metadata": {},
   "outputs": [
    {
     "data": {
      "text/plain": [
       "array([[0, 1, 0, 0, 0, 0],\n",
       "       [0, 0, 1, 1, 0, 0],\n",
       "       [1, 1, 0, 0, 0, 0],\n",
       "       [1, 0, 0, 0, 0, 0],\n",
       "       [0, 0, 0, 0, 0, 0],\n",
       "       [1, 0, 1, 0, 0, 0]])"
      ]
     },
     "execution_count": 23,
     "metadata": {},
     "output_type": "execute_result"
    }
   ],
   "source": [
    "b_adcencency_list = np.array([[0, 1, 0, 0, 0, 0], [0, 0, 1, 1, 0, 0], [1, 1, 0, 0, 0, 0], [1, 0, 0, 0, 0, 0], [0, 0, 0, 0, 0, 0], [1, 0, 1, 0, 0, 0]])\n",
    "b_adcencency_list"
   ]
  },
  {
   "cell_type": "markdown",
   "metadata": {},
   "source": [
    "- #### The corresponding link lists"
   ]
  },
  {
   "cell_type": "code",
   "execution_count": 24,
   "metadata": {},
   "outputs": [
    {
     "data": {
      "text/plain": [
       "[(1, 2),\n",
       " (1, 3),\n",
       " (1, 4),\n",
       " (1, 6),\n",
       " (2, 1),\n",
       " (2, 3),\n",
       " (2, 4),\n",
       " (3, 1),\n",
       " (3, 2),\n",
       " (3, 6),\n",
       " (4, 1),\n",
       " (4, 2),\n",
       " (6, 1),\n",
       " (6, 3)]"
      ]
     },
     "execution_count": 24,
     "metadata": {},
     "output_type": "execute_result"
    }
   ],
   "source": [
    "# The first node is 1, not 0\n",
    "a_link_list = [(1, 2), (1, 3), (1, 4), (1, 6), (2, 1), (2, 3), (2, 4), (3, 1), (3, 2), (3, 6), (4, 1), (4, 2), (6, 1), (6, 3)]\n",
    "a_link_list"
   ]
  },
  {
   "cell_type": "code",
   "execution_count": 25,
   "metadata": {},
   "outputs": [
    {
     "data": {
      "text/plain": [
       "[(1, 2), (2, 3), (2, 4), (3, 1), (3, 2), (6, 1), (6, 3)]"
      ]
     },
     "execution_count": 25,
     "metadata": {},
     "output_type": "execute_result"
    }
   ],
   "source": [
    "b_link_list = [(1, 2), (2, 3), (2, 4), (3, 1), (3, 2), (6, 1), (6, 3)]\n",
    "b_link_list"
   ]
  },
  {
   "cell_type": "markdown",
   "metadata": {},
   "source": [
    "- #### Determine the average clustering coefficient of the network shown in Image a"
   ]
  },
  {
   "cell_type": "markdown",
   "metadata": {},
   "source": [
    "            result = 1/6 * (4+3+3+2+0+2) = 1/6 * 14 = 14 / 6 = 7 / 3 = 2.33"
   ]
  },
  {
   "cell_type": "markdown",
   "metadata": {},
   "source": [
    "- #### If you switch the labels of nodes 5 and 6 in Image a, how does that move change the adjacency matrix? And the link list?"
   ]
  },
  {
   "cell_type": "code",
   "execution_count": 26,
   "metadata": {},
   "outputs": [
    {
     "data": {
      "text/plain": [
       "array([[0, 1, 1, 1, 1, 0],\n",
       "       [1, 0, 1, 1, 0, 0],\n",
       "       [1, 1, 0, 0, 1, 0],\n",
       "       [1, 1, 0, 0, 0, 0],\n",
       "       [1, 0, 1, 0, 0, 0],\n",
       "       [0, 0, 0, 0, 0, 0]])"
      ]
     },
     "execution_count": 26,
     "metadata": {},
     "output_type": "execute_result"
    }
   ],
   "source": [
    "a_adcencency_list = np.array([[0, 1, 1, 1, 1, 0], [1, 0, 1, 1, 0, 0], [1, 1, 0, 0, 1, 0], [1, 1, 0, 0, 0, 0], [1, 0, 1, 0, 0, 0], [0, 0, 0, 0, 0, 0]])\n",
    "a_adcencency_list"
   ]
  },
  {
   "cell_type": "code",
   "execution_count": 27,
   "metadata": {},
   "outputs": [
    {
     "data": {
      "text/plain": [
       "[(1, 2),\n",
       " (1, 3),\n",
       " (1, 4),\n",
       " (1, 5),\n",
       " (2, 1),\n",
       " (2, 3),\n",
       " (2, 4),\n",
       " (3, 1),\n",
       " (3, 2),\n",
       " (3, 5),\n",
       " (4, 1),\n",
       " (4, 2),\n",
       " (5, 1),\n",
       " (5, 3)]"
      ]
     },
     "execution_count": 27,
     "metadata": {},
     "output_type": "execute_result"
    }
   ],
   "source": [
    "a_link_list = [(1, 2), (1, 3), (1, 4), (1, 5), (2, 1), (2, 3), (2, 4), (3, 1), (3, 2), (3, 5), (4, 1), (4, 2), (5, 1), (5, 3)]\n",
    "a_link_list"
   ]
  },
  {
   "cell_type": "markdown",
   "metadata": {},
   "source": [
    "- #### What kind of information can you not infer from the link list representation of the network that you can infer from the adjacency matrix?\n",
    "  \n",
    "        If there is a node not connected to any of the other nodes"
   ]
  },
  {
   "cell_type": "markdown",
   "metadata": {},
   "source": [
    "- #### In the a network, how many paths (with possible repetition of nodes and links) of length 3 exist starting from node 1 and ending at node 3? And in (b)?\n",
    "        a. 3\n",
    "        b. 1"
   ]
  },
  {
   "cell_type": "markdown",
   "metadata": {},
   "source": [
    "### Problem 5: Bipartite Networks\n",
    "\n",
    "Consider the bipartite network\n",
    "\n",
    "<img src=\"http://networksciencebook.com/images/ch-02/figure-2-21.jpg\" height=\"300\"  />\n"
   ]
  },
  {
   "cell_type": "markdown",
   "metadata": {},
   "source": [
    "- #### Construct its adjacency matrix. Why is it a block-diagonal matrix?"
   ]
  },
  {
   "cell_type": "code",
   "execution_count": 28,
   "metadata": {},
   "outputs": [
    {
     "data": {
      "text/plain": [
       "array([[0, 0, 0, 0, 0, 0, 1, 0, 0, 0, 0],\n",
       "       [0, 0, 0, 0, 0, 0, 0, 0, 1, 0, 0],\n",
       "       [0, 0, 0, 0, 0, 0, 1, 1, 1, 0, 0],\n",
       "       [0, 0, 0, 0, 0, 0, 0, 0, 1, 1, 0],\n",
       "       [0, 0, 0, 0, 0, 0, 0, 0, 1, 0, 1],\n",
       "       [0, 0, 0, 0, 0, 0, 1, 0, 0, 0, 1],\n",
       "       [1, 0, 1, 0, 0, 0, 0, 0, 0, 0, 0],\n",
       "       [0, 0, 1, 0, 0, 0, 0, 0, 0, 0, 0],\n",
       "       [0, 1, 1, 1, 1, 0, 0, 0, 0, 0, 0],\n",
       "       [0, 0, 0, 1, 0, 0, 0, 0, 0, 0, 0],\n",
       "       [0, 0, 0, 0, 1, 1, 0, 0, 0, 0, 0]])"
      ]
     },
     "execution_count": 28,
     "metadata": {},
     "output_type": "execute_result"
    }
   ],
   "source": [
    "adjency_list = np.array([[0,0,0,0,0,0,1,0,0,0,0], [0,0,0,0,0,0,0,0,1,0,0], [0,0,0,0,0,0,1,1,1,0,0], [0,0,0,0,0,0,0,0,1,1,0], [0,0,0,0,0,0,0,0,1,0,1], [0,0,0,0,0,0,1,0,0,0,1], [1,0,1,0,0,0,0,0,0,0,0], [0,0,1,0,0,0,0,0,0,0,0], [0,1,1,1,1,0,0,0,0,0,0], [0,0,0,1,0,0,0,0,0,0,0], [0,0,0,0,1,1,0,0,0,0,0]])\n",
    "adjency_list"
   ]
  },
  {
   "cell_type": "markdown",
   "metadata": {},
   "source": [
    "        It is a block-matrix because the network is bipartide"
   ]
  },
  {
   "cell_type": "markdown",
   "metadata": {},
   "source": [
    "- #### Construct the adjacency matrix of its two projections, on the purple and on the green nodes, respectively."
   ]
  },
  {
   "cell_type": "code",
   "execution_count": 29,
   "metadata": {},
   "outputs": [
    {
     "data": {
      "text/plain": [
       "array([[0, 0, 1, 0, 0, 0],\n",
       "       [0, 0, 1, 1, 1, 0],\n",
       "       [1, 1, 0, 1, 1, 0],\n",
       "       [0, 1, 1, 0, 1, 0],\n",
       "       [0, 1, 1, 1, 0, 1],\n",
       "       [0, 0, 0, 0, 1, 0]])"
      ]
     },
     "execution_count": 29,
     "metadata": {},
     "output_type": "execute_result"
    }
   ],
   "source": [
    "purple_projection_adjencency_matrix = np.array([[0,0,1,0,0,0], [0,0,1,1,1,0], [1,1,0,1,1,0], [0,1,1,0,1,0], [0,1,1,1,0,1], [0,0,0,0,1,0]])\n",
    "purple_projection_adjencency_matrix"
   ]
  },
  {
   "cell_type": "code",
   "execution_count": 30,
   "metadata": {},
   "outputs": [
    {
     "data": {
      "text/plain": [
       "array([[0, 1, 1, 0, 0],\n",
       "       [1, 0, 1, 0, 0],\n",
       "       [1, 1, 0, 1, 1],\n",
       "       [0, 0, 1, 0, 0],\n",
       "       [0, 0, 1, 0, 0]])"
      ]
     },
     "execution_count": 30,
     "metadata": {},
     "output_type": "execute_result"
    }
   ],
   "source": [
    "green_projection_adjencency_matrix = np.array([[0,1,1,0,0], [1,0,1,0,0], [1,1,0,1,1], [0,0,1,0,0], [0,0,1,0,0]])\n",
    "green_projection_adjencency_matrix"
   ]
  },
  {
   "cell_type": "markdown",
   "metadata": {},
   "source": [
    "- #### Calculate the average degree of the purple nodes and the average degree of the green nodes in the bipartite network\n",
    "\n",
    "        average degree purple = 1/6 * (1+1+3+2+2+1) = 10/6 = 5/3 = 1,66\n",
    "        average degree green = 1/5 * 10 = 2"
   ]
  },
  {
   "cell_type": "markdown",
   "metadata": {},
   "source": [
    "- #### Calculate the average degree in each of the two network projections. Is it surprising that the values are different from those obtained in point (c)?\n",
    "\n",
    "        average degree purple projection = 1/6 * (1+3+4+3+4+1) = 16/6 = 8/3 = 2,33\n",
    "        average degree green projection = 1/5 * (2+2+4+1+1) = 10"
   ]
  },
  {
   "cell_type": "markdown",
   "metadata": {},
   "source": [
    "# Part III : Plotting degree distributions"
   ]
  },
  {
   "cell_type": "code",
   "execution_count": 31,
   "metadata": {},
   "outputs": [],
   "source": [
    "import matplotlib.pyplot as plt\n",
    "import networkx as nx\n",
    "import numpy as np\n",
    "import random"
   ]
  },
  {
   "cell_type": "code",
   "execution_count": 32,
   "metadata": {},
   "outputs": [],
   "source": [
    "# Generate a 1000 numbers from a gaus distribution with mean 2 and standard deviation 0.125\n",
    "\n",
    "list = np.random.normal(2, 0.125, 1000)\n",
    "hist, bin_edge = np.histogram(list, bins=10)"
   ]
  },
  {
   "cell_type": "markdown",
   "metadata": {},
   "source": [
    "This function returns:\n",
    "   \n",
    "   - hist: the number of samples into that bin\n",
    "   - bin_edge: the intervals values"
   ]
  },
  {
   "cell_type": "code",
   "execution_count": 33,
   "metadata": {},
   "outputs": [
    {
     "data": {
      "text/plain": [
       "[<matplotlib.lines.Line2D at 0x126528d50>]"
      ]
     },
     "execution_count": 33,
     "metadata": {},
     "output_type": "execute_result"
    },
    {
     "data": {
      "image/png": "[encoded data removed]",
      "text/plain": [
       "<Figure size 640x480 with 1 Axes>"
      ]
     },
     "metadata": {},
     "output_type": "display_data"
    }
   ],
   "source": [
    "plt.plot(bin_edge[1:], hist)"
   ]
  },
  {
   "cell_type": "code",
   "execution_count": 34,
   "metadata": {},
   "outputs": [
    {
     "data": {
      "text/plain": [
       "[<matplotlib.lines.Line2D at 0x126b19ed0>]"
      ]
     },
     "execution_count": 34,
     "metadata": {},
     "output_type": "execute_result"
    },
    {
     "data": {
      "image/png": "[encoded data removed]",
      "text/plain": [
       "<Figure size 640x480 with 1 Axes>"
      ]
     },
     "metadata": {},
     "output_type": "display_data"
    }
   ],
   "source": [
    "# Generate a 5000 real numbers from a poisson distribution with lambda equals to 10\n",
    "\n",
    "list = np.random.poisson(10, 5000)\n",
    "\n",
    "min = np.min(list)\n",
    "max = np.max(list)\n",
    "\n",
    "nb_bins = 10\n",
    "\n",
    "intervals = np.linspace(min, max, nb_bins + 1)\n",
    "v = np.zeros(nb_bins)\n",
    "\n",
    "for i in list:\n",
    "    for j in range(nb_bins+1):\n",
    "        if j == nb_bins:\n",
    "            v[j-1] += 1\n",
    "        elif i >= intervals[j] and i < intervals[j+1]:\n",
    "            v[j] += 1\n",
    "            break\n",
    "\n",
    "\n",
    "#print(min, max, intervals, v)\n",
    "plt.plot(intervals[1:], v)"
   ]
  },
  {
   "cell_type": "code",
   "execution_count": 35,
   "metadata": {},
   "outputs": [
    {
     "data": {
      "text/plain": [
       "<BarContainer object of 10 artists>"
      ]
     },
     "execution_count": 35,
     "metadata": {},
     "output_type": "execute_result"
    },
    {
     "data": {
      "image/png": "[encoded data removed]",
      "text/plain": [
       "<Figure size 640x480 with 1 Axes>"
      ]
     },
     "metadata": {},
     "output_type": "display_data"
    }
   ],
   "source": [
    "plt.bar(intervals[1:], v)"
   ]
  },
  {
   "cell_type": "code",
   "execution_count": 36,
   "metadata": {},
   "outputs": [
    {
     "data": {
      "text/plain": [
       "<BarContainer object of 26 artists>"
      ]
     },
     "execution_count": 36,
     "metadata": {},
     "output_type": "execute_result"
    },
    {
     "data": {
      "image/png": "[encoded data removed]",
      "text/plain": [
       "<Figure size 640x480 with 1 Axes>"
      ]
     },
     "metadata": {},
     "output_type": "display_data"
    }
   ],
   "source": [
    "N = 5000\n",
    "lambda_ = 10\n",
    "\n",
    "p = lambda_ / (N-1)\n",
    "\n",
    "ER_network = nx.erdos_renyi_graph(N, p)\n",
    "\n",
    "degree_ditribution = nx.degree_histogram(ER_network)\n",
    "plt.bar(range(len(degree_ditribution)), degree_ditribution)\n"
   ]
  },
  {
   "cell_type": "markdown",
   "metadata": {},
   "source": [
    "# Part IV : Random networks"
   ]
  },
  {
   "cell_type": "markdown",
   "metadata": {},
   "source": [
    "### Exercise 3.1 of the book\n",
    "\n",
    "Consider an Erdős-Rényi network with N = 3,000 nodes, connected to each other with probability p = 10^–3"
   ]
  },
  {
   "cell_type": "markdown",
   "metadata": {},
   "source": [
    "- #### What is the expected number of links"
   ]
  },
  {
   "cell_type": "code",
   "execution_count": 37,
   "metadata": {},
   "outputs": [
    {
     "data": {
      "text/plain": [
       "4498.5"
      ]
     },
     "execution_count": 37,
     "metadata": {},
     "output_type": "execute_result"
    }
   ],
   "source": [
    "N = 3000\n",
    "p = 0.001\n",
    "\n",
    "L = N * p * (N-1) / 2\n",
    "L"
   ]
  },
  {
   "cell_type": "markdown",
   "metadata": {},
   "source": [
    "- #### In which regime is the network?"
   ]
  },
  {
   "cell_type": "code",
   "execution_count": 38,
   "metadata": {},
   "outputs": [
    {
     "name": "stdout",
     "output_type": "stream",
     "text": [
      "Supercritical\n"
     ]
    }
   ],
   "source": [
    "k = p * (N-1)\n",
    "if k < 1:\n",
    "    print(\"Subcritical\")\n",
    "elif k == 1:\n",
    "    print(\"Critical point\")\n",
    "else:\n",
    "    print(\"Supercritical\")"
   ]
  },
  {
   "cell_type": "markdown",
   "metadata": {},
   "source": [
    "- #### Calculate the probability pc so that the network is at the critical point"
   ]
  },
  {
   "cell_type": "code",
   "execution_count": 39,
   "metadata": {},
   "outputs": [
    {
     "data": {
      "text/plain": [
       "0.00033344448149383126"
      ]
     },
     "execution_count": 39,
     "metadata": {},
     "output_type": "execute_result"
    }
   ],
   "source": [
    "pc = 1 / (N-1)\n",
    "pc"
   ]
  },
  {
   "cell_type": "markdown",
   "metadata": {},
   "source": [
    "- #### Given the linking probability p = 10–3, calculate the number of nodes Ncr so that the network has only one component."
   ]
  },
  {
   "cell_type": "code",
   "execution_count": 40,
   "metadata": {},
   "outputs": [
    {
     "data": {
      "text/plain": [
       "1001.0"
      ]
     },
     "execution_count": 40,
     "metadata": {},
     "output_type": "execute_result"
    }
   ],
   "source": [
    "Ncr = 1 / p + 1\n",
    "Ncr"
   ]
  },
  {
   "cell_type": "markdown",
   "metadata": {},
   "source": [
    "- #### For p=0.001 and N=1000, calculate the average degree 〈kcr〉 and the average distance between two randomly chosen nodes 〈d〉"
   ]
  },
  {
   "cell_type": "code",
   "execution_count": 41,
   "metadata": {},
   "outputs": [
    {
     "name": "stdout",
     "output_type": "stream",
     "text": [
      "kcr =  2.999 d =  7.2899220492624695\n"
     ]
    }
   ],
   "source": [
    "N = 3000\n",
    "p = 0.001\n",
    "\n",
    "kcr = p * (N-1)\n",
    "d = np.log(N) / np.log(kcr)\n",
    "\n",
    "print(\"kcr = \", kcr, \"d = \", d)"
   ]
  },
  {
   "cell_type": "markdown",
   "metadata": {},
   "source": [
    "- #### Calculate the degree distribution pk of this network (approximate with a Poisson degree distribution)"
   ]
  },
  {
   "cell_type": "code",
   "execution_count": 42,
   "metadata": {},
   "outputs": [
    {
     "name": "stderr",
     "output_type": "stream",
     "text": [
      "/var/folders/2l/gzncbzsn4rq5pjd_b64p3qy00000gn/T/ipykernel_14609/3964041277.py:3: DeprecationWarning: `np.math` is a deprecated alias for the standard library `math` module (Deprecated Numpy 1.25). Replace usages of `np.math` with `math`\n",
      "  pk = np.exp(-kcr) * kcr ** kcr / np.math.factorial(kcr)\n"
     ]
    },
    {
     "ename": "TypeError",
     "evalue": "'numpy.float64' object cannot be interpreted as an integer",
     "output_type": "error",
     "traceback": [
      "\u001b[0;31m---------------------------------------------------------------------------\u001b[0m",
      "\u001b[0;31mTypeError\u001b[0m                                 Traceback (most recent call last)",
      "Cell \u001b[0;32mIn[42], line 3\u001b[0m\n\u001b[1;32m      1\u001b[0m \u001b[39m#Round kcr to the nearest integer\u001b[39;00m\n\u001b[1;32m      2\u001b[0m kcr \u001b[39m=\u001b[39m np\u001b[39m.\u001b[39mround(kcr)\n\u001b[0;32m----> 3\u001b[0m pk \u001b[39m=\u001b[39m np\u001b[39m.\u001b[39mexp(\u001b[39m-\u001b[39mkcr) \u001b[39m*\u001b[39m kcr \u001b[39m*\u001b[39m\u001b[39m*\u001b[39m kcr \u001b[39m/\u001b[39m np\u001b[39m.\u001b[39;49mmath\u001b[39m.\u001b[39;49mfactorial(kcr)\n",
      "\u001b[0;31mTypeError\u001b[0m: 'numpy.float64' object cannot be interpreted as an integer"
     ]
    }
   ],
   "source": [
    "#Round kcr to the nearest integer\n",
    "kcr = np.round(kcr)\n",
    "pk = np.exp(-kcr) * kcr ** kcr / np.math.factorial(kcr)"
   ]
  }
 ],
 "metadata": {
  "kernelspec": {
   "display_name": "Python 3",
   "language": "python",
   "name": "python3"
  },
  "language_info": {
   "codemirror_mode": {
    "name": "ipython",
    "version": 3
   },
   "file_extension": ".py",
   "mimetype": "text/x-python",
   "name": "python",
   "nbconvert_exporter": "python",
   "pygments_lexer": "ipython3",
   "version": "3.11.4"
  },
  "orig_nbformat": 4
 },
 "nbformat": 4,
 "nbformat_minor": 2
}
