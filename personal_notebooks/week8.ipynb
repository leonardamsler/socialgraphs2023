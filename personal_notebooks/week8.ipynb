{
 "cells": [
  {
   "cell_type": "markdown",
   "metadata": {},
   "source": [
    "# Week 8"
   ]
  },
  {
   "cell_type": "code",
   "execution_count": 1,
   "metadata": {},
   "outputs": [],
   "source": [
    "import networkx as nx\n",
    "import matplotlib.pyplot as plt\n",
    "import numpy as np\n",
    "import pandas as pd\n",
    "import requests"
   ]
  },
  {
   "cell_type": "code",
   "execution_count": 2,
   "metadata": {},
   "outputs": [],
   "source": [
    "# Read the csv file with the rapper names in the west and east coast\n",
    "EastCoastRappers = pd.read_csv(\"../files/EastCoastRappers.csv\")\n",
    "WestCoastRappers = pd.read_csv(\"../files/WestCoastRappers.csv\")\n",
    "BothCoastRappers = pd.read_csv(\"../files/BothCoastRappers.csv\")\n",
    "\n",
    "def build_rappers_network():\n",
    "\n",
    "    G = nx.DiGraph()\n",
    "    \n",
    "    # Add nodes to the graph\n",
    "    for index, row in EastCoastRappers.iterrows():\n",
    "        G.add_node(row['WikipediaPageName'], region='EastCoast')\n",
    "\n",
    "    for index, row in WestCoastRappers.iterrows():\n",
    "        G.add_node(row['WikipediaPageName'], region='WestCoast')\n",
    "\n",
    "    for index, row in BothCoastRappers.iterrows():\n",
    "        G.add_node(row['WikipediaPageName'], region='BothCoast')\n",
    "\n",
    "    # Setup wikipedia requests\n",
    "    WIKI_REQUEST_URL = \"https://en.wikipedia.org/w/api.php?\"\n",
    "    params = {\n",
    "        'action': 'query',\n",
    "        'format': 'json',\n",
    "        'prop': 'links',\n",
    "        'pllimit': 'max',\n",
    "        'titles': ''\n",
    "    }\n",
    "\n",
    "    # Add edges to the graph \n",
    "    # It should have an edge between two rappers if their wikipedia pages link to each other\n",
    "    for index, row in EastCoastRappers.iterrows():\n",
    "        params['titles'] = row['WikipediaPageName']\n",
    "        request = requests.get(WIKI_REQUEST_URL, params=params).json().get('query').get('pages').popitem()[1].get('links')\n",
    "        for link in request:\n",
    "            if (link['title'] in G.nodes()):\n",
    "                G.add_edge(row['WikipediaPageName'], link['title'])\n",
    "\n",
    "    for index, row in WestCoastRappers.iterrows():\n",
    "        params['titles'] = row['WikipediaPageName']\n",
    "        request = requests.get(WIKI_REQUEST_URL, params=params).json().get('query').get('pages').popitem()[1].get('links')\n",
    "        for link in request:\n",
    "            if (link['title'] in G.nodes()):\n",
    "                G.add_edge(row['WikipediaPageName'], link['title'])\n",
    "\n",
    "    for index, row in BothCoastRappers.iterrows():\n",
    "        params['titles'] = row['WikipediaPageName']\n",
    "        request = requests.get(WIKI_REQUEST_URL, params=params).json().get('query').get('pages').popitem()[1].get('links')\n",
    "        for link in request:\n",
    "            if (link['title'] in G.nodes()):\n",
    "                G.add_edge(row['WikipediaPageName'], link['title'])\n",
    "    \n",
    "    return G"
   ]
  },
  {
   "cell_type": "markdown",
   "metadata": {},
   "source": [
    "## Exercise 1: Sentiment distribution. \n",
    "\n"
   ]
  },
  {
   "cell_type": "markdown",
   "metadata": {},
   "source": [
    "> * Download the LabMT wordlist. It's available as supplementary material from [Temporal Patterns of Happiness and Information in a Global Social Network: Hedonometrics and Twitter](http://journals.plos.org/plosone/article?id=10.1371/journal.pone.0026752) (Data Set S1). Describe briefly how the list was generated."
   ]
  },
  {
   "cell_type": "markdown",
   "metadata": {},
   "source": [
    "> * Based on the LabMT word list, write a function that calculates sentiment given a list of tokens (the tokens should be lower case, etc)."
   ]
  },
  {
   "cell_type": "code",
   "execution_count": 3,
   "metadata": {},
   "outputs": [],
   "source": [
    "## We have a dicitonnary of words and their happiness score on the path ../data/labMIT-1.0.txt\n",
    "## Word is on the first column, happiness score is on the third column\n",
    "\n",
    "word_happiness_dict = {}\n",
    "with open('../files/labMIT-1.0.txt', 'r') as f:\n",
    "    for line in f:\n",
    "        if line.startswith('word'):\n",
    "            continue\n",
    "        word, score = line.split('\\t')[0], float(line.split('\\t')[2])\n",
    "        word_happiness_dict[word] = score\n",
    "\n",
    "def get_happiness_score(words):\n",
    "    \"\"\"\n",
    "    This function takes a list of lowercase words and returns the average happiness score of the words in the list.\n",
    "    \"\"\"\n",
    "    happiness_score = 0\n",
    "    for word in words:\n",
    "        if word in word_happiness_dict:\n",
    "            happiness_score += word_happiness_dict[word]\n",
    "    return happiness_score / len(words)"
   ]
  },
  {
   "cell_type": "markdown",
   "metadata": {},
   "source": [
    "> * Iterate over the nodes in your network, tokenize each page, and calculate sentiment every single page. Now you have sentiment as a new nodal property."
   ]
  },
  {
   "cell_type": "code",
   "execution_count": 4,
   "metadata": {},
   "outputs": [],
   "source": [
    "G = build_rappers_network()"
   ]
  },
  {
   "cell_type": "code",
   "execution_count": 5,
   "metadata": {},
   "outputs": [],
   "source": [
    "## For all nodes in the graph, compute the average happiness score of the words in the node's wikipedia page\n",
    "## The pages are stored in folders ../files/eastcoasttexts/ and ../files/westcoasttexts/ and then by names\n",
    "\n",
    "scores = []\n",
    "names = []\n",
    "\n",
    "for node in G.nodes():\n",
    "    ## Get the region of the node\n",
    "    region = G.nodes[node]['region']\n",
    "    if region == \"BothCoast\":\n",
    "        region = \"EastCoast\"\n",
    "    ## Get the text file\n",
    "    name = node.replace(' ', '_')\n",
    "    with open(f'../files/{region.lower()}texts/{name}.txt', 'r') as f:\n",
    "        text = f.read()\n",
    "        ## Remove punctuation\n",
    "        text = text.replace('.', '').replace(',', '').replace('?', '').replace('!', '').replace(';', '').replace(':', '')\n",
    "        ## Lowercase the text\n",
    "        text = text.lower()\n",
    "        ## Convert the text to a list of words\n",
    "        words = text.split()\n",
    "        ## Compute the average happiness score of the words in the list\n",
    "        if len(words) == 0:\n",
    "            score = 0\n",
    "        else:\n",
    "            score = get_happiness_score(words)\n",
    "        names.append(name)\n",
    "        scores.append(score)"
   ]
  },
  {
   "cell_type": "markdown",
   "metadata": {},
   "source": [
    "> * Remember histograms? Create a histogram of all character's associated page-sentiments. (And make it a nice histogram - use your histogram making skills from Week 2)."
   ]
  },
  {
   "cell_type": "code",
   "execution_count": 6,
   "metadata": {},
   "outputs": [
    {
     "data": {
      "image/png": "[encoded data removed]",
      "text/plain": [
       "<Figure size 640x480 with 1 Axes>"
      ]
     },
     "metadata": {},
     "output_type": "display_data"
    }
   ],
   "source": [
    "## Create histogram of all character's associated happiness scores\n",
    "\n",
    "plt.hist(scores, bins=50)\n",
    "plt.xlabel('Happiness Score')\n",
    "plt.ylabel('Frequency')\n",
    "plt.title('Happiness Score Distribution')\n",
    "plt.show()"
   ]
  },
  {
   "cell_type": "markdown",
   "metadata": {},
   "source": [
    "> * Who are the 10 rappers with happiest and saddest pages?"
   ]
  },
  {
   "cell_type": "code",
   "execution_count": 9,
   "metadata": {},
   "outputs": [
    {
     "name": "stdout",
     "output_type": "stream",
     "text": [
      "The 10 most happy rappers are:\n",
      "Dom_Kennedy\n",
      "Tim'm_T._West\n",
      "GaTa\n",
      "Dave_Free\n",
      "Charles_Hamilton_(rapper)\n",
      "DJ_Charlie_Chase\n",
      "Lloyd_Banks\n",
      "Trip_Lee\n",
      "Young_Music_DYMG\n",
      "Young_M.A\n",
      "\n",
      "The 10 most unhappy rappers are:\n",
      "Neo_da_Matrix\n",
      "Cardiak\n",
      "Sha_Money_XL\n",
      "B-Legit\n",
      "Arkatech_Beatz\n",
      "Willie_B_(producer)\n",
      "Crystal_Caines\n",
      "Buckwild_(music_producer)\n",
      "Droop-E\n",
      "Focus...\n"
     ]
    }
   ],
   "source": [
    "happy_rappers = []\n",
    "unhappy_rappers = []\n",
    "\n",
    "both = list(zip(names, scores))\n",
    "## Sort the list by the happiness score\n",
    "both.sort(key=lambda x: x[1])\n",
    "\n",
    "## Remove the rappers with a score of 0\n",
    "both = [rapper for rapper in both if rapper[1] != 0]\n",
    "\n",
    "## Get the 10 most happy rappers\n",
    "for i in range(10):\n",
    "    happy_rappers.append(both.pop()[0])\n",
    "\n",
    "## Get the 10 most unhappy rappers\n",
    "for i in range(10):\n",
    "    unhappy_rappers.append(both.pop(0)[0])\n",
    "\n",
    "## Print the 10 most happy rappers\n",
    "print(\"The 10 most happy rappers are:\")\n",
    "for rapper in happy_rappers:\n",
    "    print(rapper)\n",
    "\n",
    "## Print the 10 most unhappy rappers\n",
    "print(\"\\nThe 10 most unhappy rappers are:\")\n",
    "for rapper in unhappy_rappers:\n",
    "    print(rapper)"
   ]
  },
  {
   "cell_type": "markdown",
   "metadata": {},
   "source": [
    "<!---\n",
    "> * Now we average the average sentiment of the nodes in each community to find a *community level sentiment*. \n",
    ">   - Name each community by its three most connected characters. \n",
    ">   - What are the three happiest communities? \n",
    ">   - what are the three saddest communities?\n",
    ">   - Do these results confirm what you can learn about each community by skimming the wikipedia pages?\n",
    "--->\n",
    "\n",
    "**Note**: Calculating sentiment takes a long time, so arm yourself with patience as your code runs (remember to check that it runs correctly, before waiting patiently). Further, these tips may speed things up. And save somewhere, so you don't have to start over.\n",
    "\n",
    "**Tips for speed**\n",
    "* If you use `freqDist` prior to finding the sentiment, you only have to find it for every unique word and hereafter you can do a weighted mean.\n",
    "* More tips for speeding up loops https://wiki.python.org/moin/PythonSpeed/PerformanceTips#Loops"
   ]
  },
  {
   "cell_type": "markdown",
   "metadata": {},
   "source": []
  }
 ],
 "metadata": {
  "kernelspec": {
   "display_name": "Python 3",
   "language": "python",
   "name": "python3"
  },
  "language_info": {
   "codemirror_mode": {
    "name": "ipython",
    "version": 3
   },
   "file_extension": ".py",
   "mimetype": "text/x-python",
   "name": "python",
   "nbconvert_exporter": "python",
   "pygments_lexer": "ipython3",
   "version": "3.11.4"
  }
 },
 "nbformat": 4,
 "nbformat_minor": 2
}
